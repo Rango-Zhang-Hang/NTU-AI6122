{
  "nbformat": 4,
  "nbformat_minor": 0,
  "metadata": {
    "colab": {
      "provenance": [],
      "collapsed_sections": [],
      "authorship_tag": "ABX9TyNP2lEFYARMl8EQBKgg+StF",
      "include_colab_link": true
    },
    "kernelspec": {
      "name": "python3",
      "display_name": "Python 3"
    },
    "language_info": {
      "name": "python"
    },
    "gpuClass": "standard"
  },
  "cells": [
    {
      "cell_type": "markdown",
      "metadata": {
        "id": "view-in-github",
        "colab_type": "text"
      },
      "source": [
        "<a href=\"https://colab.research.google.com/github/Rango-Zhang-Hang/NTU-AI6122/blob/main/cvproject_2_1.ipynb\" target=\"_parent\"><img src=\"https://colab.research.google.com/assets/colab-badge.svg\" alt=\"Open In Colab\"/></a>"
      ]
    },
    {
      "cell_type": "code",
      "source": [
        "from google.colab import drive\n",
        "drive.mount('/content/gdrive')"
      ],
      "metadata": {
        "colab": {
          "base_uri": "https://localhost:8080/"
        },
        "id": "MaMxBhbh16uv",
        "outputId": "b5964c9b-85f9-488e-b256-a87fcc4d9f08"
      },
      "execution_count": 2,
      "outputs": [
        {
          "output_type": "stream",
          "name": "stdout",
          "text": [
            "Mounted at /content/gdrive\n"
          ]
        }
      ]
    },
    {
      "cell_type": "code",
      "source": [
        "!git clone https://github.com/tkhkaeio/CyCADA.git"
      ],
      "metadata": {
        "id": "Y8s3VbUDLISi",
        "colab": {
          "base_uri": "https://localhost:8080/"
        },
        "outputId": "ef712619-9196-4b52-c3eb-8925e7b6003d"
      },
      "execution_count": 1,
      "outputs": [
        {
          "output_type": "stream",
          "name": "stdout",
          "text": [
            "Cloning into 'CyCADA'...\n",
            "remote: Enumerating objects: 55, done.\u001b[K\n",
            "remote: Counting objects: 100% (55/55), done.\u001b[K\n",
            "remote: Compressing objects: 100% (42/42), done.\u001b[K\n",
            "remote: Total 55 (delta 14), reused 53 (delta 12), pack-reused 0\u001b[K\n",
            "Unpacking objects: 100% (55/55), done.\n"
          ]
        }
      ]
    },
    {
      "cell_type": "code",
      "source": [
        "# dataset: ./gdrive/MyDrive/gta2city"
      ],
      "metadata": {
        "id": "LZkth-l_7dpx"
      },
      "execution_count": null,
      "outputs": []
    },
    {
      "cell_type": "code",
      "source": [
        "!mv \"./gdrive/MyDrive/gta2city\" \"./CyCADA/data/gta2city\""
      ],
      "metadata": {
        "id": "k2ezhIDu4jWx"
      },
      "execution_count": 4,
      "outputs": []
    },
    {
      "cell_type": "markdown",
      "source": [
        "### please put data on the path: ../data/[your dataset] and specify dataroot option in scripts/train_cycada.sh (default: dataroot=../data/mnist_USPS)"
      ],
      "metadata": {
        "id": "Sn2fn0gm6Ltx"
      }
    },
    {
      "cell_type": "code",
      "source": [],
      "metadata": {
        "id": "_7Pq2Kin6FjH"
      },
      "execution_count": null,
      "outputs": []
    }
  ]
}